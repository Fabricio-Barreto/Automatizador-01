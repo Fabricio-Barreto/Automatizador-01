{
 "cells": [
  {
   "cell_type": "code",
   "execution_count": 53,
   "id": "2ae9cb56",
   "metadata": {},
   "outputs": [],
   "source": [
    "import pyautogui\n",
    "import pyperclip\n",
    "import time\n",
    "\n",
    "pyautogui.PAUSE = 1\n",
    "\n",
    "# Passo 1: Entrar no sistema.\n",
    "pyautogui.hotkey(\"ctrl\",\"t\")\n",
    "pyperclip.copy(\"https://drive.google.com/drive/folders/149xknr9JvrlEnhNWO49zPcw0PW5icxga\")\n",
    "pyautogui.hotkey(\"ctrl\", \"v\")\n",
    "pyautogui.press(\"enter\")\n",
    "\n",
    "time.sleep(5)\n",
    "\n",
    "# Passo 2: Navegar até o local do relatório.\n",
    "pyautogui.click(x=2021, y=276, clicks=2)\n",
    "\n",
    "time.sleep(3)\n",
    "\n",
    "# Passo 3: Fazer download do relatório.\n",
    "pyautogui.click(x=2021, y=276)\n",
    "pyautogui.click(x=3321, y=154)\n",
    "pyautogui.click(x=3148, y=588)\n",
    "\n",
    "time.sleep(3)\n",
    "\n",
    "pyautogui.hotkey(\"ctrl\", \"w\")"
   ]
  },
  {
   "cell_type": "code",
   "execution_count": 54,
   "id": "4a1f859f",
   "metadata": {
    "scrolled": true
   },
   "outputs": [
    {
     "name": "stdout",
     "output_type": "stream",
     "text": [
      "2917311\n",
      "15227\n"
     ]
    }
   ],
   "source": [
    "#Passo 4: Calcular os indicadores do arquivo.\n",
    "import pandas as pd\n",
    "\n",
    "tabela = pd.read_excel(\"C://Users/Fabricio Barreto/Downloads/Vendas - Dez.xlsx\")\n",
    "faturamento = tabela[\"Valor Final\"].sum()\n",
    "quantidade = tabela[\"Quantidade\"].sum()\n",
    "print(faturamento)\n",
    "print(quantidade)"
   ]
  },
  {
   "cell_type": "code",
   "execution_count": 55,
   "id": "e8a3fa38",
   "metadata": {},
   "outputs": [],
   "source": [
    "#Passo 5: Acessando o Gmail e mandando um email.\n",
    "pyautogui.hotkey(\"ctrl\",\"t\")\n",
    "pyautogui.write(\"gmail.com\")\n",
    "pyautogui.press(\"enter\")\n",
    "\n",
    "time.sleep(8)\n",
    "\n",
    "pyautogui.click(x=1691, y=173)\n",
    "pyautogui.write(\"fabriciobarrr+diretoria@gmail.com\") #coloque seu email\n",
    "pyautogui.press(\"enter\")\n",
    "pyautogui.press(\"tab\")\n",
    "pyperclip.copy(\"Relatório de Vendas.\")\n",
    "pyautogui.hotkey(\"ctrl\",\"v\")\n",
    "pyautogui.press(\"tab\")\n",
    "\n",
    "texto =f'''Prezados, Bom dia\n",
    "\n",
    "O faturamento de ontem foi de: R${faturamento:,.2f}\n",
    "A quantidade de produtos foi de: {quantidade:,}\n",
    "\n",
    "Abs\n",
    "Fabricio Barreto'''\n",
    "\n",
    "pyperclip.copy(texto)\n",
    "pyautogui.hotkey(\"ctrl\",\"v\")\n",
    "pyautogui.hotkey(\"ctrl\",\"enter\")\n",
    "pyautogui.hotkey(\"ctrl\", \"w\")\n",
    "pyautogui.click(x=3502, y=1012)"
   ]
  },
  {
   "cell_type": "code",
   "execution_count": 56,
   "id": "e3b35520",
   "metadata": {},
   "outputs": [
    {
     "data": {
      "text/plain": [
       "Point(x=2520, y=337)"
      ]
     },
     "execution_count": 56,
     "metadata": {},
     "output_type": "execute_result"
    }
   ],
   "source": [
    "#Descobrindo a posição do click\n",
    "time.sleep(3)\n",
    "\n",
    "pyautogui.position()"
   ]
  },
  {
   "cell_type": "code",
   "execution_count": 57,
   "id": "be79238e",
   "metadata": {},
   "outputs": [
    {
     "name": "stdout",
     "output_type": "stream",
     "text": [
      "Requirement already satisfied: pyperclip in d:\\anaconda3\\lib\\site-packages (1.8.2)\n",
      "Requirement already satisfied: pyautogui in d:\\anaconda3\\lib\\site-packages (0.9.53)\n",
      "Requirement already satisfied: pyscreeze>=0.1.21 in d:\\anaconda3\\lib\\site-packages (from pyautogui) (0.1.28)\n",
      "Requirement already satisfied: PyTweening>=1.0.1 in d:\\anaconda3\\lib\\site-packages (from pyautogui) (1.0.4)\n",
      "Requirement already satisfied: pymsgbox in d:\\anaconda3\\lib\\site-packages (from pyautogui) (1.0.9)\n",
      "Requirement already satisfied: mouseinfo in d:\\anaconda3\\lib\\site-packages (from pyautogui) (0.1.3)\n",
      "Requirement already satisfied: pygetwindow>=0.0.5 in d:\\anaconda3\\lib\\site-packages (from pyautogui) (0.0.9)\n",
      "Requirement already satisfied: pyrect in d:\\anaconda3\\lib\\site-packages (from pygetwindow>=0.0.5->pyautogui) (0.1.4)\n",
      "Requirement already satisfied: Pillow>=6.2.1 in d:\\anaconda3\\lib\\site-packages (from pyscreeze>=0.1.21->pyautogui) (8.2.0)\n",
      "Requirement already satisfied: pyperclip in d:\\anaconda3\\lib\\site-packages (from mouseinfo->pyautogui) (1.8.2)\n"
     ]
    }
   ],
   "source": [
    "!pip install pyperclip\n",
    "!pip install pyautogui"
   ]
  }
 ],
 "metadata": {
  "kernelspec": {
   "display_name": "Python 3",
   "language": "python",
   "name": "python3"
  },
  "language_info": {
   "codemirror_mode": {
    "name": "ipython",
    "version": 3
   },
   "file_extension": ".py",
   "mimetype": "text/x-python",
   "name": "python",
   "nbconvert_exporter": "python",
   "pygments_lexer": "ipython3",
   "version": "3.8.8"
  }
 },
 "nbformat": 4,
 "nbformat_minor": 5
}
